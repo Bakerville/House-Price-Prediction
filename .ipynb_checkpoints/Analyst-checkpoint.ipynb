{
 "cells": [
  {
   "cell_type": "markdown",
   "id": "ce3af283",
   "metadata": {},
   "source": [
    "## Import các thư viện cần thiết"
   ]
  },
  {
   "cell_type": "code",
   "execution_count": 7,
   "id": "c28b7efb",
   "metadata": {},
   "outputs": [
    {
     "name": "stdout",
     "output_type": "stream",
     "text": [
      "Requirement already satisfied: scipy in c:\\users\\admin\\anaconda3\\envs\\myenv\\lib\\site-packages (1.8.1)\n",
      "Requirement already satisfied: numpy<1.25.0,>=1.17.3 in c:\\users\\admin\\anaconda3\\envs\\myenv\\lib\\site-packages (from scipy) (1.22.4)\n"
     ]
    }
   ],
   "source": [
    "!pip install scipy"
   ]
  },
  {
   "cell_type": "code",
   "execution_count": 2,
   "id": "d1e3146f",
   "metadata": {},
   "outputs": [
    {
     "ename": "ModuleNotFoundError",
     "evalue": "No module named 'matplotlib'",
     "output_type": "error",
     "traceback": [
      "\u001b[1;31m---------------------------------------------------------------------------\u001b[0m",
      "\u001b[1;31mModuleNotFoundError\u001b[0m                       Traceback (most recent call last)",
      "Input \u001b[1;32mIn [2]\u001b[0m, in \u001b[0;36m<cell line: 3>\u001b[1;34m()\u001b[0m\n\u001b[0;32m      1\u001b[0m \u001b[38;5;28;01mimport\u001b[39;00m \u001b[38;5;21;01mpandas\u001b[39;00m \u001b[38;5;28;01mas\u001b[39;00m \u001b[38;5;21;01mpd\u001b[39;00m\n\u001b[0;32m      2\u001b[0m \u001b[38;5;28;01mimport\u001b[39;00m \u001b[38;5;21;01mnumpy\u001b[39;00m \u001b[38;5;28;01mas\u001b[39;00m \u001b[38;5;21;01mnp\u001b[39;00m\n\u001b[1;32m----> 3\u001b[0m \u001b[38;5;28;01mimport\u001b[39;00m \u001b[38;5;21;01mmatplotlib\u001b[39;00m\u001b[38;5;21;01m.\u001b[39;00m\u001b[38;5;21;01mpyplot\u001b[39;00m \u001b[38;5;28;01mas\u001b[39;00m \u001b[38;5;21;01mplt\u001b[39;00m\n\u001b[0;32m      4\u001b[0m \u001b[38;5;28;01mimport\u001b[39;00m \u001b[38;5;21;01mseaborn\u001b[39;00m \u001b[38;5;28;01mas\u001b[39;00m \u001b[38;5;21;01msns\u001b[39;00m\n\u001b[0;32m      5\u001b[0m \u001b[38;5;28;01mimport\u001b[39;00m \u001b[38;5;21;01mstatsmodels\u001b[39;00m\u001b[38;5;21;01m.\u001b[39;00m\u001b[38;5;21;01mapi\u001b[39;00m \u001b[38;5;28;01mas\u001b[39;00m \u001b[38;5;21;01msm\u001b[39;00m\n",
      "\u001b[1;31mModuleNotFoundError\u001b[0m: No module named 'matplotlib'"
     ]
    }
   ],
   "source": [
    "import pandas as pd\n",
    "import numpy as np\n",
    "import matplotlib.pyplot as plt\n",
    "import seaborn as sns\n",
    "import statsmodels.api as sm\n",
    "import scipy.stats as stats\n",
    "from sklearn.decomposition import PCA \n",
    "from sklearn.linear_model import LinearRegression\n",
    "from sklearn.metrics import mean_squared_error\n",
    "from sklearn.pipeline import Pipeline, make_pipeline\n",
    "from sklearn.compose import ColumnTransformer, make_column_transformer\n",
    "from sklearn.impute import SimpleImputer\n",
    "from sklearn.preprocessing import OneHotEncoder, StandardScaler\n",
    "from sklearn.neural_network import MLPRegressor\n",
    "from sklearn import set_config\n",
    "set_config(display='diagram') # Để trực quan hóa pipeline\n",
    "\n",
    "sns.set()\n",
    "plt.rcParams[\"figure.figsize\"] = (15,8)"
   ]
  },
  {
   "cell_type": "markdown",
   "id": "fc137774",
   "metadata": {},
   "source": [
    "## Khám phá dữ liệu"
   ]
  },
  {
   "cell_type": "markdown",
   "id": "edd738a8",
   "metadata": {},
   "source": [
    "### Đọc dữ liệu\n",
    "\n",
    "Dữ liệu được đọc từ 2 file \"train.csv\" và \"test.csv\" sau đó nối lại và lưu trong một dataframe duy nhất."
   ]
  },
  {
   "cell_type": "code",
   "execution_count": null,
   "id": "27f600ab",
   "metadata": {},
   "outputs": [],
   "source": [
    "df= pd.read_csv(\"train.csv\")\n",
    "df"
   ]
  },
  {
   "cell_type": "markdown",
   "id": "df941f98",
   "metadata": {},
   "source": [
    "## Kích thước dữ liệu"
   ]
  },
  {
   "cell_type": "code",
   "execution_count": null,
   "id": "45c1497f",
   "metadata": {},
   "outputs": [],
   "source": [
    "df.shape"
   ]
  },
  {
   "cell_type": "code",
   "execution_count": null,
   "id": "ab41f60e",
   "metadata": {
    "scrolled": true
   },
   "outputs": [],
   "source": [
    "print(f\"Number of rows: {df.shape[0]}\")\n",
    "print(f\"Number of columns: {df.shape[1]}\")"
   ]
  },
  {
   "cell_type": "markdown",
   "id": "545abbd2",
   "metadata": {},
   "source": [
    "## Ý nghĩa của các cột dữ liệu"
   ]
  },
  {
   "cell_type": "markdown",
   "id": "2a79ea9c",
   "metadata": {},
   "source": [
    "## Kiểm tra dữ liệu lặp"
   ]
  },
  {
   "cell_type": "code",
   "execution_count": null,
   "id": "b5d195ad",
   "metadata": {},
   "outputs": [],
   "source": [
    "df.duplicated().sum()"
   ]
  },
  {
   "cell_type": "markdown",
   "id": "145d42b5",
   "metadata": {},
   "source": [
    "## Kiểm tra phần trăm dữ liệu thiếu ở mỗi cột\n",
    "* Nếu dữ liệu thiếu quá nhiều (>50%) thì ta sẽ loại bỏ cột đó"
   ]
  },
  {
   "cell_type": "code",
   "execution_count": null,
   "id": "9b33c84b",
   "metadata": {},
   "outputs": [],
   "source": [
    "missing_percentage = df.isna().sum()/len(df)\n",
    "missing_percentage"
   ]
  },
  {
   "cell_type": "code",
   "execution_count": null,
   "id": "45848a9d",
   "metadata": {},
   "outputs": [],
   "source": [
    "drop_cols = missing_percentage.loc[missing_percentage>0.5].index\n",
    "df.drop(columns=list(drop_cols), inplace =True)"
   ]
  },
  {
   "cell_type": "code",
   "execution_count": null,
   "id": "e9e3c38b",
   "metadata": {},
   "outputs": [],
   "source": [
    "df.drop(columns=\"Id\", inplace=True)"
   ]
  },
  {
   "cell_type": "markdown",
   "id": "dd097c41",
   "metadata": {},
   "source": [
    "* Thử loại bỏ tất cả các dòng có giá trị Nan"
   ]
  },
  {
   "cell_type": "code",
   "execution_count": null,
   "id": "ee58f46f",
   "metadata": {},
   "outputs": [],
   "source": [
    "df.dropna()"
   ]
  },
  {
   "cell_type": "markdown",
   "id": "19c1600f",
   "metadata": {},
   "source": [
    "* Kích thước lúc này đã giảm đi rất nhiều, nên trong trường hợp này ta tìm cách điền vào các giá trị thiếu"
   ]
  },
  {
   "cell_type": "code",
   "execution_count": null,
   "id": "600ef35b",
   "metadata": {
    "scrolled": false
   },
   "outputs": [],
   "source": [
    "numerical_cols = [col for col in df.columns if df[col].dtype in [np.float64, np.int64]]\n",
    "ax  = df[numerical_cols].hist(bins=10)"
   ]
  },
  {
   "cell_type": "markdown",
   "id": "3f8670d2",
   "metadata": {},
   "source": [
    "## Xử lí dữ liệu thiếu\n",
    "- Ta thấy rằng nếu loại bỏ tất cả các dòng có dữ liệu thiếu sẽ làm các số lượng sample giảm đi rất nhiều. Điều này làm ảnh hưởng đến kết quả của các mô hình huấn luyện và làm sai lệch dữ liệu\n",
    "- Trong trường hợp này ta sẽ tìm cách điền các dữ liệu thiếu này\n",
    "- Ta điền bằng độ lệch skewness\n",
    "- Nếu skewness >= 0.5 ta điền bằng median. Ngược lại điền bằng mean\n",
    "- Để tiện cho quá trình tiền xử lý ta sẽ tạo một data pipeline với các bước: loại bỏ các cột có quá nửa là dữ liệu thiếu, điền dữ liệu thiếu vào các dòng như đề xuất trên"
   ]
  },
  {
   "cell_type": "code",
   "execution_count": null,
   "id": "df907dd7",
   "metadata": {},
   "outputs": [],
   "source": [
    "# Điền dữ liệu thiếu trong nume_df\n",
    "\n",
    "class Drop_Cols:\n",
    "    def __init__(self, dropped_cols=None):\n",
    "        self.dropped_cols = dropped_cols\n",
    "    def fit(self, X_df, y_df=None):\n",
    "        missing_percentage = X_df.isna().sum()\n",
    "        dropped_cols = missing_percentage.loc[missing_percentage>0.5].index\n",
    "        self.dropped_cols = list(dropped_cols)\n",
    "        return self\n",
    "    def transform(self,X_df, y_df=None):\n",
    "        return X_df.drop(columns=self.dropped_cols)\n",
    "    \n",
    "class Filling_Missing:\n",
    "    def __init__(self, filled_cols=None):\n",
    "        self.filled_cols = filled_cols\n",
    "    def filling_missing(self, series):\n",
    "        skewness = stats.skew(series)\n",
    "        if skewness>=0.5:\n",
    "            return series.fillna(np.median(series))\n",
    "        else:\n",
    "            return series.fillna(np.mean(series))\n",
    "    def fit(self,X_df, y =None):\n",
    "        self.filled_cols = [col for col in X_df.columns if X_df[col].dtype in [np.float64, np.int64]]\n",
    "        return self\n",
    "    def transform(self, X_df):\n",
    "        return df[self.filled_cols].apply(self.filling_missing)\n",
    "    \n",
    "numerical_cols = [col for col in df.columns if df[col].dtype in [np.float64, np.int64]]\n",
    "categorical_cols = [col for col in df.columns if col not in numerical_cols]"
   ]
  },
  {
   "cell_type": "code",
   "execution_count": null,
   "id": "da11e4ea",
   "metadata": {},
   "outputs": [],
   "source": [
    "preprocessing_pipeline = make_pipeline(Drop_Cols(), Filling_Missing())"
   ]
  },
  {
   "cell_type": "code",
   "execution_count": null,
   "id": "6f7051c8",
   "metadata": {},
   "outputs": [],
   "source": [
    "preprocessing_pipeline"
   ]
  },
  {
   "cell_type": "code",
   "execution_count": null,
   "id": "3888b418",
   "metadata": {},
   "outputs": [],
   "source": [
    "preprocessing_pipeline.fit(df)\n",
    "nume_df = preprocessing_pipeline.transform(df)"
   ]
  },
  {
   "cell_type": "code",
   "execution_count": null,
   "id": "a692e6b3",
   "metadata": {},
   "outputs": [],
   "source": [
    "nume_df"
   ]
  },
  {
   "cell_type": "code",
   "execution_count": null,
   "id": "939c7a1b",
   "metadata": {},
   "outputs": [],
   "source": [
    "#Kiem tra lai cac phan phoi sau khi filling\n",
    "ax=nume_df.hist(bins=10)"
   ]
  },
  {
   "cell_type": "markdown",
   "id": "a38bf4ef",
   "metadata": {},
   "source": [
    "- Dữ liệu sau khi filling không có phân phối xác suất không thay đổi rõ rệt\n",
    "- Điều này cho thây việc điền các giá trị thiếu không ảnh hưởng đến tính đúng của dữ liệu gốc"
   ]
  },
  {
   "cell_type": "code",
   "execution_count": null,
   "id": "b31d7596",
   "metadata": {},
   "outputs": [],
   "source": [
    "pd.options.display.float_format = \"{:,.2f}\".format\n",
    "sns.set(rc = {'figure.figsize':(20,15)})\n",
    "corr_matrix = nume_df.corr()\n",
    "corr_matrix[np.abs(corr_matrix)<0.3]=0\n",
    "sns.heatmap(corr_matrix, cmap=\"viridis\",vmax=1.0, vmin=-1.0, linewidths=0.1, mask = np.triu(np.ones_like(corr_matrix, dtype=bool)), annot =True,annot_kws={\"size\": 9, \"color\": \"black\"})"
   ]
  },
  {
   "cell_type": "markdown",
   "id": "f9e9d8a7",
   "metadata": {},
   "source": [
    "- Chọn ra những thuộc tính ảnh hưởng mạnh lên SalePrice (relational coefficent>0.7)"
   ]
  },
  {
   "cell_type": "code",
   "execution_count": null,
   "id": "73834c38",
   "metadata": {},
   "outputs": [],
   "source": [
    "corr_price_col = corr_matrix[\"SalePrice\"][:-1]\n",
    "strong_att = corr_price_col[np.abs(corr_price_col>0.7)]\n",
    "strong_att"
   ]
  },
  {
   "cell_type": "markdown",
   "id": "c5f17783",
   "metadata": {},
   "source": [
    "### Áp dụng mô hình OLS"
   ]
  },
  {
   "cell_type": "code",
   "execution_count": null,
   "id": "9e5e145b",
   "metadata": {},
   "outputs": [],
   "source": [
    "cols = [name for name in strong_att.index if \"Year\" not in name]\n",
    "cols"
   ]
  },
  {
   "cell_type": "code",
   "execution_count": null,
   "id": "28a8a73d",
   "metadata": {},
   "outputs": [],
   "source": [
    "for i in range(len(cols)):\n",
    "    plt.subplot(4,3,i+1)\n",
    "    sns.regplot(data=nume_df, x=cols[i], y=\"SalePrice\")"
   ]
  },
  {
   "cell_type": "markdown",
   "id": "0a9552c8",
   "metadata": {},
   "source": [
    "- Ta thấy với OverallQual càng tăng thì SalePrice có xu hướng tăng. Nhưng các điểm trên plot OverallQual nếu là 1 đường thẳng thì dễ xảy ra underfitting\n",
    "- Với GrLivArea, SalePrice có scale khá lớn ( $>10^3$ )\n",
    "- Ta thử đề xuất môt hình $ log(SalePrice) \\approx w2OverallQual^3 + w1log(GrLivArea) + w0$"
   ]
  },
  {
   "cell_type": "code",
   "execution_count": null,
   "id": "c0216a42",
   "metadata": {},
   "outputs": [],
   "source": [
    "exog = sm.add_constant(pd.concat([nume_df[cols[0]]**3,np.log10(nume_df[cols[1]])],axis=1))"
   ]
  },
  {
   "cell_type": "code",
   "execution_count": null,
   "id": "9dfdf595",
   "metadata": {},
   "outputs": [],
   "source": [
    "ols = sm.OLS(np.log10(nume_df[\"SalePrice\"]), exog)"
   ]
  },
  {
   "cell_type": "markdown",
   "id": "91a43948",
   "metadata": {},
   "source": [
    "- Mô hình cho kết quả khá tệ với RSS = 0.38\n",
    "- Có thể điều này xảy ra do các attribute có scale khác nhau\n",
    "- Có thể dùng zscore để chuẩn hoá"
   ]
  },
  {
   "cell_type": "code",
   "execution_count": null,
   "id": "147e2633",
   "metadata": {},
   "outputs": [],
   "source": [
    "reg = ols.fit()"
   ]
  },
  {
   "cell_type": "code",
   "execution_count": null,
   "id": "291c428e",
   "metadata": {},
   "outputs": [],
   "source": [
    "reg.summary()"
   ]
  },
  {
   "cell_type": "markdown",
   "id": "f95e512d",
   "metadata": {},
   "source": [
    "## Nhận xét\n",
    "- Mô hình có Rsquared = 0.734\n",
    "- Hệ số p_value đều thấp => có ý nghĩa thống kê\n",
    "- Giờ hãy thử trên tập test"
   ]
  },
  {
   "cell_type": "code",
   "execution_count": null,
   "id": "0f916eee",
   "metadata": {},
   "outputs": [],
   "source": [
    "linear_model = LinearRegression(fit_intercept=True)"
   ]
  },
  {
   "cell_type": "code",
   "execution_count": null,
   "id": "7c9378f2",
   "metadata": {},
   "outputs": [],
   "source": [
    "X_train = pd.concat([nume_df[cols[0]]**3,np.log10(nume_df[cols[1]])],axis=1)\n",
    "y_train = np.log10(nume_df[\"SalePrice\"])"
   ]
  },
  {
   "cell_type": "code",
   "execution_count": null,
   "id": "6eed0e93",
   "metadata": {
    "scrolled": true
   },
   "outputs": [],
   "source": [
    "linear_model.fit(X_train,y_train)"
   ]
  },
  {
   "cell_type": "code",
   "execution_count": null,
   "id": "29436077",
   "metadata": {},
   "outputs": [],
   "source": [
    "print(linear_model.coef_)\n",
    "print(linear_model.intercept_)"
   ]
  },
  {
   "cell_type": "code",
   "execution_count": null,
   "id": "c9bdb7ec",
   "metadata": {},
   "outputs": [],
   "source": [
    "mean_squared_error(linear_model.predict(X_train), y_train)"
   ]
  },
  {
   "cell_type": "markdown",
   "id": "e905ec0a",
   "metadata": {},
   "source": [
    "- Có vẻ các hệ số của các biến độc lập đều giống với mô hinh OLS thử nghiệm ở trên\n",
    "- Độ đo MSE ~ 0.0079886 (rất nhỏ) cho thấy mô hình hoạt động tốt trên tập training"
   ]
  },
  {
   "cell_type": "code",
   "execution_count": null,
   "id": "771fd533",
   "metadata": {},
   "outputs": [],
   "source": [
    "df_test = pd.read_csv(\"test.csv\")\n",
    "df_test"
   ]
  },
  {
   "cell_type": "code",
   "execution_count": null,
   "id": "c11856cd",
   "metadata": {},
   "outputs": [],
   "source": [
    "df_test = preprocessing_pipeline.transform(df_test)\n",
    "X_test = pd.concat([df_test[cols[0]]**3,np.log10(df_test[cols[1]])],axis=1)"
   ]
  },
  {
   "cell_type": "code",
   "execution_count": null,
   "id": "4ef0c6df",
   "metadata": {},
   "outputs": [],
   "source": [
    "df_test[\"SalePrices\"] = 10**linear_model.predict(X_test)"
   ]
  },
  {
   "cell_type": "code",
   "execution_count": null,
   "id": "e92adeb5",
   "metadata": {
    "scrolled": true
   },
   "outputs": [],
   "source": [
    "df_test"
   ]
  },
  {
   "cell_type": "markdown",
   "id": "e63448f1",
   "metadata": {},
   "source": [
    "- Như vậy có thể sử dụng mô hình\n",
    "$ log_{10}(SalePrice) \\approx 0.00054278OverallQual^3 + 0.48182753log_{10}(GrLivArea) + 3.55870718$"
   ]
  },
  {
   "cell_type": "markdown",
   "id": "99e20914",
   "metadata": {},
   "source": [
    "### Thử nghiệm MLP Regression"
   ]
  },
  {
   "cell_type": "markdown",
   "id": "2f0215f3",
   "metadata": {},
   "source": [
    "- Ta thử dùng mô hình MLP Regression trên dataset\n",
    "- Các bước tiền xử lí:\n",
    "- Loại bỏ các cột có > 50% dữ liệu thiếu\n",
    "- Với các cột dạng numerical ta filling dựa trên độ lệch skewness như trên\n",
    "- Với các cột categorical ta dùng mode để filling, và dùng one-hot-encoding trên các cột này\n",
    "- Sau đó dùng standard scaler để chuẩn hoá các cột\n",
    "- Cuối cùng là apply mô hình MLPRegression"
   ]
  },
  {
   "cell_type": "code",
   "execution_count": null,
   "id": "8d35ab5c",
   "metadata": {},
   "outputs": [],
   "source": [
    "df_2 = df.copy()\n",
    "dropped_cols = Drop_Cols()\n",
    "dropped_cols.fit(df_2)\n",
    "df_2 = dropped_cols.transform(df_2)\n",
    "df_2"
   ]
  },
  {
   "cell_type": "code",
   "execution_count": null,
   "id": "e4d5f288",
   "metadata": {},
   "outputs": [],
   "source": [
    "numerical_cols = [col for col in df_2.columns if df_2[col].dtype in [np.float64, np.int64]]\n",
    "categorical_cols = [col for col in df_2.columns if col not in numerical_cols]"
   ]
  },
  {
   "cell_type": "code",
   "execution_count": null,
   "id": "1a2a6817",
   "metadata": {},
   "outputs": [],
   "source": [
    "categorical_handle = make_pipeline(SimpleImputer(strategy=\"most_frequent\"),OneHotEncoder(handle_unknown=\"ignore\", sparse=False))"
   ]
  },
  {
   "cell_type": "code",
   "execution_count": null,
   "id": "9ac48215",
   "metadata": {},
   "outputs": [],
   "source": [
    "step = make_column_transformer((categorical_handle, categorical_cols), (make_pipeline(Filling_Missing()), numerical_cols))"
   ]
  },
  {
   "cell_type": "code",
   "execution_count": null,
   "id": "472afa74",
   "metadata": {},
   "outputs": [],
   "source": [
    "preprocessing_pipeline = make_pipeline(step, StandardScaler())"
   ]
  },
  {
   "cell_type": "markdown",
   "id": "f9c3f26e",
   "metadata": {},
   "source": [
    "**Các thông số trong mô hình:**\n",
    "- Max_iter (số vòng lặp tối đa): nếu mô hình hội tụ trước khi đủ 10000 mô hình sẽ trả về kết quả\n",
    "- Ta sẽ dùng activation là hàm Relu vì giá trị hàm từ 0 đến vô cùng\n",
    "- hidden layer size = 50"
   ]
  },
  {
   "cell_type": "code",
   "execution_count": null,
   "id": "fe39bb86",
   "metadata": {},
   "outputs": [],
   "source": [
    "reg = MLPRegressor(max_iter=10000, random_state=0, alpha =1, activation=\"relu\", solver=\"lbfgs\", hidden_layer_sizes=(50))\n",
    "mlp_pipeline = make_pipeline(preprocessing_pipeline, reg)\n",
    "mlp_pipeline"
   ]
  },
  {
   "cell_type": "code",
   "execution_count": null,
   "id": "85dc25da",
   "metadata": {},
   "outputs": [],
   "source": [
    "mlp_pipeline.fit(df_2, df_2.SalePrice)"
   ]
  },
  {
   "cell_type": "code",
   "execution_count": null,
   "id": "8d3585c5",
   "metadata": {},
   "outputs": [],
   "source": [
    "mean_squared_error(mlp_pipeline.predict(df_2), df_2.SalePrice)"
   ]
  },
  {
   "cell_type": "markdown",
   "id": "05b9535c",
   "metadata": {},
   "source": [
    "### Nhận xét mô hình:\n",
    "- Mô hình hoạt động tốt trên tập training\n",
    "- Accuracy = 0.1701689 là một độ đo tốt (tránh được overfitting và không underfitting)"
   ]
  },
  {
   "cell_type": "code",
   "execution_count": null,
   "id": "eced6796",
   "metadata": {},
   "outputs": [],
   "source": []
  }
 ],
 "metadata": {
  "kernelspec": {
   "display_name": "Python 3 (ipykernel)",
   "language": "python",
   "name": "python3"
  },
  "language_info": {
   "codemirror_mode": {
    "name": "ipython",
    "version": 3
   },
   "file_extension": ".py",
   "mimetype": "text/x-python",
   "name": "python",
   "nbconvert_exporter": "python",
   "pygments_lexer": "ipython3",
   "version": "3.10.4"
  }
 },
 "nbformat": 4,
 "nbformat_minor": 5
}
